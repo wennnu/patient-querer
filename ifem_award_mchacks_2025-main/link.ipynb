{
 "cells": [
  {
   "cell_type": "code",
   "execution_count": 7,
   "metadata": {},
   "outputs": [
    {
     "name": "stdout",
     "output_type": "stream",
     "text": [
      "The error '1049 (42000): Unknown database 'patients'' occurred\n",
      "Failed to connect to the database.\n"
     ]
    }
   ],
   "source": [
    "import mysql.connector\n",
    "from mysql.connector import Error\n",
    "\n",
    "def create_connection(host_name, user_name, user_password, db_name):\n",
    "    connection = None\n",
    "    try:\n",
    "        connection = mysql.connector.connect(\n",
    "            host=host_name,\n",
    "            user=user_name,\n",
    "            passwd=user_password,\n",
    "            database=db_name\n",
    "        )\n",
    "        print(\"Connection to MySQL DB successful\")\n",
    "    except Error as e:\n",
    "        print(f\"The error '{e}' occurred\")\n",
    "    return connection\n",
    "\n",
    "def read_query(connection, query):\n",
    "    cursor = connection.cursor(dictionary=True)\n",
    "    result = None\n",
    "    try:\n",
    "        cursor.execute(query)\n",
    "        result = cursor.fetchall()\n",
    "        return result\n",
    "    except Error as e:\n",
    "        print(f\"The error '{e}' occurred\")\n",
    "\n",
    "# Example usage\n",
    "connection = create_connection(\"localhost\", \"root\", \"24@mcGill.1176-ws\", \"Patients\")\n",
    "\n",
    "if connection is not None:\n",
    "    # Read data from the database\n",
    "    query = \"SELECT * FROM Patients\"\n",
    "    patients_data = read_query(connection, query)\n",
    "\n",
    "    # Process the data as needed\n",
    "    if patients_data is not None:\n",
    "        for patient in patients_data:\n",
    "            print(patient)\n",
    "else:\n",
    "    print(\"Failed to connect to the database.\")\n",
    "\n"
   ]
  }
 ],
 "metadata": {
  "kernelspec": {
   "display_name": "base",
   "language": "python",
   "name": "python3"
  },
  "language_info": {
   "codemirror_mode": {
    "name": "ipython",
    "version": 3
   },
   "file_extension": ".py",
   "mimetype": "text/x-python",
   "name": "python",
   "nbconvert_exporter": "python",
   "pygments_lexer": "ipython3",
   "version": "3.12.7"
  }
 },
 "nbformat": 4,
 "nbformat_minor": 2
}
